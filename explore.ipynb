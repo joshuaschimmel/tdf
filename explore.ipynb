{
 "cells": [
  {
   "cell_type": "code",
   "execution_count": 105,
   "id": "4c2fbb8b",
   "metadata": {},
   "outputs": [],
   "source": [
    "import json\n",
    "from datetime import datetime\n",
    "import pandas as pd\n",
    "import numpy as np\n",
    "import pytz"
   ]
  },
  {
   "cell_type": "code",
   "execution_count": 106,
   "id": "306d72ef",
   "metadata": {},
   "outputs": [],
   "source": [
    "with open('data.json', 'r') as f:\n",
    "    data = json.load(f)"
   ]
  },
  {
   "cell_type": "code",
   "execution_count": 107,
   "id": "698f1141",
   "metadata": {},
   "outputs": [
    {
     "data": {
      "text/plain": [
       "dict_keys(['data', 'code', 'message', 'timestamp'])"
      ]
     },
     "execution_count": 107,
     "metadata": {},
     "output_type": "execute_result"
    }
   ],
   "source": [
    "data.keys()"
   ]
  },
  {
   "cell_type": "code",
   "execution_count": 148,
   "id": "d281c46f",
   "metadata": {},
   "outputs": [
    {
     "data": {
      "text/html": [
       "<div>\n",
       "<style scoped>\n",
       "    .dataframe tbody tr th:only-of-type {\n",
       "        vertical-align: middle;\n",
       "    }\n",
       "\n",
       "    .dataframe tbody tr th {\n",
       "        vertical-align: top;\n",
       "    }\n",
       "\n",
       "    .dataframe thead th {\n",
       "        text-align: right;\n",
       "    }\n",
       "</style>\n",
       "<table border=\"1\" class=\"dataframe\">\n",
       "  <thead>\n",
       "    <tr style=\"text-align: right;\">\n",
       "      <th></th>\n",
       "      <th>elemento</th>\n",
       "      <th>nick</th>\n",
       "      <th>id_dispositivo</th>\n",
       "      <th>id_tipo_dispositivo</th>\n",
       "      <th>fecha_completa</th>\n",
       "      <th>eae</th>\n",
       "      <th>eai</th>\n",
       "      <th>er1</th>\n",
       "      <th>er2</th>\n",
       "      <th>er3</th>\n",
       "      <th>er4</th>\n",
       "      <th>horario</th>\n",
       "    </tr>\n",
       "  </thead>\n",
       "  <tbody>\n",
       "    <tr>\n",
       "      <th>0</th>\n",
       "      <td>Embarrado 1 Ppal</td>\n",
       "      <td>Embarrado 1 Ppal</td>\n",
       "      <td>2201</td>\n",
       "      <td>3</td>\n",
       "      <td>2022-10-01 01:00:00</td>\n",
       "      <td>0</td>\n",
       "      <td>108</td>\n",
       "      <td>0</td>\n",
       "      <td>0</td>\n",
       "      <td>0</td>\n",
       "      <td>1080</td>\n",
       "      <td>V</td>\n",
       "    </tr>\n",
       "    <tr>\n",
       "      <th>1</th>\n",
       "      <td>Embarrado 1 Ppal</td>\n",
       "      <td>Embarrado 1 Ppal</td>\n",
       "      <td>2201</td>\n",
       "      <td>3</td>\n",
       "      <td>2022-10-01 02:00:00</td>\n",
       "      <td>0</td>\n",
       "      <td>108</td>\n",
       "      <td>0</td>\n",
       "      <td>0</td>\n",
       "      <td>0</td>\n",
       "      <td>1092</td>\n",
       "      <td>V</td>\n",
       "    </tr>\n",
       "    <tr>\n",
       "      <th>2</th>\n",
       "      <td>Embarrado 1 Ppal</td>\n",
       "      <td>Embarrado 1 Ppal</td>\n",
       "      <td>2201</td>\n",
       "      <td>3</td>\n",
       "      <td>2022-10-01 03:00:00</td>\n",
       "      <td>0</td>\n",
       "      <td>120</td>\n",
       "      <td>0</td>\n",
       "      <td>0</td>\n",
       "      <td>0</td>\n",
       "      <td>1080</td>\n",
       "      <td>V</td>\n",
       "    </tr>\n",
       "    <tr>\n",
       "      <th>3</th>\n",
       "      <td>Embarrado 1 Ppal</td>\n",
       "      <td>Embarrado 1 Ppal</td>\n",
       "      <td>2201</td>\n",
       "      <td>3</td>\n",
       "      <td>2022-10-01 04:00:00</td>\n",
       "      <td>0</td>\n",
       "      <td>108</td>\n",
       "      <td>0</td>\n",
       "      <td>0</td>\n",
       "      <td>0</td>\n",
       "      <td>1092</td>\n",
       "      <td>V</td>\n",
       "    </tr>\n",
       "    <tr>\n",
       "      <th>4</th>\n",
       "      <td>Embarrado 1 Ppal</td>\n",
       "      <td>Embarrado 1 Ppal</td>\n",
       "      <td>2201</td>\n",
       "      <td>3</td>\n",
       "      <td>2022-10-01 05:00:00</td>\n",
       "      <td>0</td>\n",
       "      <td>108</td>\n",
       "      <td>0</td>\n",
       "      <td>0</td>\n",
       "      <td>0</td>\n",
       "      <td>1092</td>\n",
       "      <td>V</td>\n",
       "    </tr>\n",
       "  </tbody>\n",
       "</table>\n",
       "</div>"
      ],
      "text/plain": [
       "           elemento              nick  id_dispositivo  id_tipo_dispositivo  \\\n",
       "0  Embarrado 1 Ppal  Embarrado 1 Ppal            2201                    3   \n",
       "1  Embarrado 1 Ppal  Embarrado 1 Ppal            2201                    3   \n",
       "2  Embarrado 1 Ppal  Embarrado 1 Ppal            2201                    3   \n",
       "3  Embarrado 1 Ppal  Embarrado 1 Ppal            2201                    3   \n",
       "4  Embarrado 1 Ppal  Embarrado 1 Ppal            2201                    3   \n",
       "\n",
       "        fecha_completa  eae  eai  er1  er2  er3   er4 horario  \n",
       "0  2022-10-01 01:00:00    0  108    0    0    0  1080       V  \n",
       "1  2022-10-01 02:00:00    0  108    0    0    0  1092       V  \n",
       "2  2022-10-01 03:00:00    0  120    0    0    0  1080       V  \n",
       "3  2022-10-01 04:00:00    0  108    0    0    0  1092       V  \n",
       "4  2022-10-01 05:00:00    0  108    0    0    0  1092       V  "
      ]
     },
     "execution_count": 148,
     "metadata": {},
     "output_type": "execute_result"
    }
   ],
   "source": [
    "df = pd.DataFrame.from_dict(data['data'])\n",
    "df.head()"
   ]
  },
  {
   "cell_type": "code",
   "execution_count": 109,
   "id": "f599c2f3",
   "metadata": {},
   "outputs": [],
   "source": [
    "#df.to_csv('data.csv')"
   ]
  },
  {
   "cell_type": "code",
   "execution_count": 81,
   "id": "3ba0568e",
   "metadata": {},
   "outputs": [
    {
     "data": {
      "text/plain": [
       "'2022-10-01 01:00:00'"
      ]
     },
     "execution_count": 81,
     "metadata": {},
     "output_type": "execute_result"
    }
   ],
   "source": [
    "time_string = df['fecha_completa'][0]\n",
    "time_string"
   ]
  },
  {
   "cell_type": "code",
   "execution_count": 74,
   "id": "f228bcd3",
   "metadata": {},
   "outputs": [
    {
     "data": {
      "text/plain": [
       "datetime.datetime(2022, 10, 1, 1, 0)"
      ]
     },
     "execution_count": 74,
     "metadata": {},
     "output_type": "execute_result"
    }
   ],
   "source": [
    "local_tz = pytz.timezone('Europe/Madrid')\n",
    "naive = datetime.fromisoformat(ts)\n",
    "naive"
   ]
  },
  {
   "cell_type": "code",
   "execution_count": 78,
   "id": "51e30751",
   "metadata": {},
   "outputs": [
    {
     "data": {
      "text/plain": [
       "datetime.datetime(2022, 10, 1, 1, 0, tzinfo=<DstTzInfo 'Europe/Madrid' CEST+2:00:00 DST>)"
      ]
     },
     "execution_count": 78,
     "metadata": {},
     "output_type": "execute_result"
    }
   ],
   "source": [
    "local_dt = local_tz.localize(naive, is_dst=None)\n",
    "local_dt"
   ]
  },
  {
   "cell_type": "code",
   "execution_count": 80,
   "id": "d10a2532",
   "metadata": {},
   "outputs": [
    {
     "data": {
      "text/plain": [
       "datetime.datetime(2022, 9, 30, 23, 0, tzinfo=<UTC>)"
      ]
     },
     "execution_count": 80,
     "metadata": {},
     "output_type": "execute_result"
    }
   ],
   "source": [
    "utc_dt = local_dt.astimezone(pytz.utc)\n",
    "utc_dt"
   ]
  },
  {
   "cell_type": "code",
   "execution_count": 142,
   "id": "5640d358",
   "metadata": {},
   "outputs": [],
   "source": []
  },
  {
   "cell_type": "code",
   "execution_count": 129,
   "id": "df8a8b54",
   "metadata": {},
   "outputs": [],
   "source": [
    "dst_transition = '2022-10-30 02:00:00'"
   ]
  },
  {
   "cell_type": "code",
   "execution_count": 154,
   "id": "375aaba4",
   "metadata": {},
   "outputs": [],
   "source": [
    "dst_transition = '2022-10-30 02:00:00'\n",
    "madrid_timezone = pytz.timezone('Europe/Madrid')\n",
    "dst_transitioned = False\n",
    "\n",
    "def convertTime(timestring):\n",
    "    global dst_transitioned\n",
    "    naive_datetime = datetime.fromisoformat(timestring)\n",
    "    local_datetime = madrid_timezone.localize(\n",
    "        naive_datetime, \n",
    "        is_dst=dst_transitioned\n",
    "    )\n",
    "    utc_datetime = local_datetime.astimezone(pytz.UTC)\n",
    "    utc_string = utc_datetime.isoformat()\n",
    "    \n",
    "    if(not dst_transitioned and timestring >= dst_transition):\n",
    "        dst_transitioned = True\n",
    "        \n",
    "    return utc_string\n",
    "    \n",
    "df['fecha_completa'] = df['fecha_completa'].apply(convertTime)"
   ]
  },
  {
   "cell_type": "code",
   "execution_count": 158,
   "id": "9567d724",
   "metadata": {},
   "outputs": [],
   "source": [
    "df.to_csv('data.csv')"
   ]
  },
  {
   "cell_type": "code",
   "execution_count": 119,
   "id": "149418f0",
   "metadata": {},
   "outputs": [
    {
     "data": {
      "text/plain": [
       "2"
      ]
     },
     "execution_count": 119,
     "metadata": {},
     "output_type": "execute_result"
    }
   ],
   "source": [
    "a = 1\n",
    "a += 1 \n",
    "a"
   ]
  },
  {
   "cell_type": "code",
   "execution_count": null,
   "id": "c7b5fdf4",
   "metadata": {},
   "outputs": [],
   "source": []
  }
 ],
 "metadata": {
  "kernelspec": {
   "display_name": "Python 3 (ipykernel)",
   "language": "python",
   "name": "python3"
  },
  "language_info": {
   "codemirror_mode": {
    "name": "ipython",
    "version": 3
   },
   "file_extension": ".py",
   "mimetype": "text/x-python",
   "name": "python",
   "nbconvert_exporter": "python",
   "pygments_lexer": "ipython3",
   "version": "3.10.8"
  }
 },
 "nbformat": 4,
 "nbformat_minor": 5
}
